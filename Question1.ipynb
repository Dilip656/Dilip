{
 "cells": [
  {
   "cell_type": "code",
   "execution_count": 11,
   "metadata": {},
   "outputs": [
    {
     "data": {
      "text/plain": [
       "(129, 9)"
      ]
     },
     "execution_count": 11,
     "metadata": {},
     "output_type": "execute_result"
    }
   ],
   "source": [
    "# Given a list of numbers, return its length and the sum of all these numbers.\n",
    "lst=[1,2,6,8,9,14,45,12,32]\n",
    "\n",
    "def sum_len(lst):\n",
    "    x=0\n",
    "    y=0\n",
    "    for i in lst:\n",
    "        x=x+i\n",
    "        y=y+1\n",
    "    return x,y\n",
    "sum_len(lst)\n",
    "    "
   ]
  },
  {
   "cell_type": "code",
   "execution_count": 2,
   "metadata": {},
   "outputs": [
    {
     "data": {
      "text/plain": [
       "(103, 4)"
      ]
     },
     "execution_count": 2,
     "metadata": {},
     "output_type": "execute_result"
    }
   ],
   "source": [
    "lst=[1,21,36,45]\n",
    "def sum_length(lst):\n",
    "    x=0\n",
    "    y=0\n",
    "    for i in lst:\n",
    "        x+=i\n",
    "        y+=1\n",
    "\n",
    "    return x,y\n",
    "sum_length(lst)"
   ]
  },
  {
   "cell_type": "code",
   "execution_count": null,
   "metadata": {},
   "outputs": [],
   "source": []
  }
 ],
 "metadata": {
  "kernelspec": {
   "display_name": "Python 3",
   "language": "python",
   "name": "python3"
  },
  "language_info": {
   "codemirror_mode": {
    "name": "ipython",
    "version": 3
   },
   "file_extension": ".py",
   "mimetype": "text/x-python",
   "name": "python",
   "nbconvert_exporter": "python",
   "pygments_lexer": "ipython3",
   "version": "3.12.4"
  }
 },
 "nbformat": 4,
 "nbformat_minor": 2
}
