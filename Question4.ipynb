{
 "cells": [
  {
   "cell_type": "code",
   "execution_count": 4,
   "metadata": {},
   "outputs": [
    {
     "data": {
      "text/plain": [
       "5"
      ]
     },
     "execution_count": 4,
     "metadata": {},
     "output_type": "execute_result"
    }
   ],
   "source": [
    "# Given a list of integers, return the count of even numbers in it.\n",
    "lst=[2,4,8,10,12]\n",
    "def count_even(lst):\n",
    "    x=0\n",
    "    for i in lst:\n",
    "        if i==0:\n",
    "            continue\n",
    "        if i%2==0:\n",
    "            x=x+i//i\n",
    "    return x\n",
    "        \n",
    "count_even(lst)"
   ]
  },
  {
   "cell_type": "code",
   "execution_count": 3,
   "metadata": {},
   "outputs": [
    {
     "data": {
      "text/plain": [
       "2"
      ]
     },
     "execution_count": 3,
     "metadata": {},
     "output_type": "execute_result"
    }
   ],
   "source": [
    "# Given a list of integers, return the count of even numbers in it.\n",
    "lst=[0,4,0,2]\n",
    "def even_num_count(lst):\n",
    "    c=0\n",
    "    for i in lst:\n",
    "        if i==0:\n",
    "            continue\n",
    "        elif i%2==0:\n",
    "            c+=1\n",
    "    return c\n",
    "even_num_count(lst)\n"
   ]
  }
 ],
 "metadata": {
  "kernelspec": {
   "display_name": "Python 3",
   "language": "python",
   "name": "python3"
  },
  "language_info": {
   "codemirror_mode": {
    "name": "ipython",
    "version": 3
   },
   "file_extension": ".py",
   "mimetype": "text/x-python",
   "name": "python",
   "nbconvert_exporter": "python",
   "pygments_lexer": "ipython3",
   "version": "3.12.4"
  }
 },
 "nbformat": 4,
 "nbformat_minor": 2
}
